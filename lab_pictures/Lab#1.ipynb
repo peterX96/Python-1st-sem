{
 "cells": [
  {
   "cell_type": "code",
   "execution_count": 123,
   "id": "689e4972",
   "metadata": {},
   "outputs": [],
   "source": [
    "import pygame as pg\n",
    "import numpy as np"
   ]
  },
  {
   "cell_type": "markdown",
   "id": "b3245fff",
   "metadata": {},
   "source": [
    "Я не повторял картинку №5 точь в точь, но попробовал повторить все графические элементы, которые использованы в ней"
   ]
  },
  {
   "cell_type": "code",
   "execution_count": 171,
   "id": "cf75921d",
   "metadata": {},
   "outputs": [],
   "source": [
    "def draw_2_task(s):\n",
    "    w, h = s.get_size()\n",
    "    pg.draw.rect(s, (240,220,175), (0, 0, w, 2*h/3))\n",
    "    pg.draw.rect(s, (255,170,150), (0, 2*h//9, w, 2*h//9))\n",
    "    \n",
    "    pg.draw.polygon(s, (125,125,125), [(0,2*h/3), (w,2*h/3), (w,h*(2/3-1/4)), (9*w/10, h*(2/3 - 1/6)), \n",
    "                                       (7*w/10, h*(2/3 - 1/5)), (3*w/10, h*(2/3 - 1/9)), (2*w/10 , h*(2/3 - 3/8))])\n",
    "    \n",
    "    pg.draw.ellipse(s, (125,125,125), (w/10, h*(2/3-3/8), 2*w/10, h*(6/10)))#, np.pi, width = 100)\n",
    "    \n",
    "    pg.draw.rect(s, (155,80,155), (0, 2*h/3, w, h/3))\n",
    "    \n",
    "    pg.draw.circle(s, (255,255,0), (w/2, 2*h/9), 20)"
   ]
  },
  {
   "cell_type": "code",
   "execution_count": 266,
   "id": "f14429f3",
   "metadata": {},
   "outputs": [],
   "source": [
    "def draw_bird(screen, start, squeeze, squeeze_vert, angle):\n",
    "    #make 'orthogonal bird' in start, rotate it on angle (in radians) and squeeze\n",
    "    #make: \n",
    "    w, h = screen.get_size()\n",
    "    points = [[0,0], [0, -h/squeeze]]\n",
    "    x = np.linspace(np.pi, -np.pi/3, 100)\n",
    "    for p in  x:\n",
    "        points.append( [w/2/squeeze + w/2/squeeze*np.cos(p), - h/squeeze - h/squeeze*np.sin(p)] )\n",
    "    \n",
    "    cp = (w/2/squeeze + w/2/squeeze*np.cos(p), - h/squeeze - h/squeeze*np.sin(p))\n",
    "    x = np.linspace(0,1,100)\n",
    "    for p in x:\n",
    "        points.append( [cp[0] + p*w*4/squeeze, cp[1] - 1.5*h/squeeze*((p)*(p-1)*(p-1.001))] )\n",
    "    points.append([0,0])\n",
    "    \n",
    "    #rotate and squeeze:\n",
    "    for point in points:\n",
    "        point[0], point[1] = np.cos(angle)*point[0] + np.sin(angle)*point[1], -np.sin(angle)*point[0] + np.cos(angle)*point[1]\n",
    "        point[1] = squeeze_vert*(point[1])\n",
    "        point[0] += start[0]\n",
    "        point[1] += start[1]\n",
    "    pg.draw.polygon(screen, (0,0,0), points)\n",
    "    \n",
    "def draw_3_task(s):\n",
    "    w, h = s.get_size()\n",
    "    draw_2_task(s)\n",
    "    \n",
    "    #add mountains\n",
    "    points = [(0, h/2), (w/7, h*(1/2 + 1/15)), (2*w/7, h*(1/2 + 1/5)), (4*w/7, 3*h/4 - h/5*np.cos(-(49*np.pi/18/w)*(4*w/7-w)))]\n",
    "    \n",
    "    #add curve\n",
    "    x = np.linspace(4*w/7, w, 100)\n",
    "    for p in x:\n",
    "        points.append( (p, 3*h/4 - h/5*np.cos(-(49*np.pi/18/w)*(p-w)) ) )\n",
    "    for p in [(w, h/2), (w, h), (0,h)]:\n",
    "        points.append(p)\n",
    "    pg.draw.polygon(s, (125,0,125), points)\n",
    "    \n",
    "    draw_bird(s, [w/2,h/2], 40, 0.7, np.pi/4)\n",
    "    draw_bird(s, [17*w/20,3*h/4], 30, 0.9, np.pi/4)\n",
    "    draw_bird(s, [8*w/20, h/5], 45, 0.8, np.pi/3)\n",
    "    "
   ]
  },
  {
   "cell_type": "code",
   "execution_count": 268,
   "id": "bcd02810",
   "metadata": {},
   "outputs": [],
   "source": [
    "pg.init()\n",
    "pg.display.set_caption('Lab itself')\n",
    "fps = 60\n",
    "screen = pg.display.set_mode(size = (500, 500))\n",
    "\n",
    "clock = pg.time.Clock()\n",
    "\n",
    "task = input('\"b\" для боевого задания, \"h\" для домашнего ') \n",
    "\n",
    "if task == 'b':\n",
    "    draw_2_task(screen)\n",
    "if task == 'h':\n",
    "    draw_3_task(screen)\n",
    "    \n",
    "pg.display.update()\n",
    "\n",
    "fin = False\n",
    "while not fin:\n",
    "    clock.tick(fps)\n",
    "    for e in pg.event.get():\n",
    "        if e.type == pg.QUIT:\n",
    "            pg.quit()\n",
    "            fin = True"
   ]
  },
  {
   "cell_type": "code",
   "execution_count": null,
   "id": "634450f6",
   "metadata": {},
   "outputs": [],
   "source": []
  }
 ],
 "metadata": {
  "kernelspec": {
   "display_name": "Python 3",
   "language": "python",
   "name": "python3"
  },
  "language_info": {
   "codemirror_mode": {
    "name": "ipython",
    "version": 3
   },
   "file_extension": ".py",
   "mimetype": "text/x-python",
   "name": "python",
   "nbconvert_exporter": "python",
   "pygments_lexer": "ipython3",
   "version": "3.8.8"
  }
 },
 "nbformat": 4,
 "nbformat_minor": 5
}

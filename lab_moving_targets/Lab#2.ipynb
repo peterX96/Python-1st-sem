{
 "cells": [
  {
   "cell_type": "code",
   "execution_count": 3,
   "id": "2be78dbf",
   "metadata": {
    "scrolled": true
   },
   "outputs": [
    {
     "name": "stdout",
     "output_type": "stream",
     "text": [
      "pygame 2.1.0 (SDL 2.0.16, Python 3.8.8)\n",
      "Hello from the pygame community. https://www.pygame.org/contribute.html\n"
     ]
    }
   ],
   "source": [
    "import pygame as pg\n",
    "import random as rd\n",
    "import numpy as np\n",
    "import time"
   ]
  },
  {
   "cell_type": "markdown",
   "id": "d8fd8ab2",
   "metadata": {},
   "source": [
    "# Stuff"
   ]
  },
  {
   "cell_type": "code",
   "execution_count": 4,
   "id": "b41e9cb3",
   "metadata": {},
   "outputs": [],
   "source": [
    "def rotate(vector, angle):\n",
    "    #takes angle in radians and turns vector at it\n",
    "    A = np.array([\n",
    "        [np.cos(angle), -np.sin(angle)],\n",
    "        [np.sin(angle), np.cos(angle)]\n",
    "    ])\n",
    "    return A@vector\n",
    "\n",
    "def new_ball(w, h):\n",
    "    #рисует новый шарик\n",
    "    rmin, rmax = 10, 100\n",
    "    x = rd.randint(rmax, w - rmax)\n",
    "    y = rd.randint(rmax, h - rmax)\n",
    "    r = rd.randint(rmin, rmax)\n",
    "    color = COLORS[rd.randint(0, 5)]\n",
    "    return Ball([x,y], r, color)\n",
    "\n",
    "def dist(p1, p2):\n",
    "    return np.sqrt( (p1[0]-p2[0])**2 + (p1[1] - p2[1])**2 )\n",
    "\n",
    "def new_david(w,h):\n",
    "    #рисует новую звезду Давида\n",
    "    rmin, rmax = 10, 100\n",
    "    x = rd.randint(rmax, w - rmax)\n",
    "    y = rd.randint(rmax, h - rmax)\n",
    "    r = rd.randint(rmin, rmax)\n",
    "    color = COLORS[rd.randint(0, 5)]\n",
    "    return David([x,y], r, color)\n",
    "\n",
    "def new_object_on_screen(targets):\n",
    "    who = rd.randint(0,1)\n",
    "    if who:\n",
    "        targets.append(new_ball(w, h))\n",
    "    else:\n",
    "        targets.append(new_david(w,h))\n",
    "    target = targets[len(targets)-1]\n",
    "    target.change_velocity([rd.randint(-target.rad,target.rad), rd.randint(-target.rad,target.rad)])\n",
    "    \n",
    "def finish(s):\n",
    "    w,h = s.get_size()\n",
    "    f1 = pg.font.Font(None, 36)\n",
    "    text1 = f1.render('What\\'s your name?', True,\n",
    "                  (180, 0, 0))\n",
    "    s.fill((255,255,255))\n",
    "    s.blit(text1, (w/2, h/2))\n",
    "    pg.display.update()\n",
    "    \n",
    "    player = input(\"What's your name? \")\n",
    "    return player"
   ]
  },
  {
   "cell_type": "markdown",
   "id": "b5c240bb",
   "metadata": {},
   "source": [
    "# Class_Target"
   ]
  },
  {
   "cell_type": "code",
   "execution_count": 5,
   "id": "555dab41",
   "metadata": {},
   "outputs": [],
   "source": [
    "class Target():\n",
    "    def __init__(self, kind):\n",
    "        self.kind = kind\n",
    "    def change_velocity(self, vel):\n",
    "        self.velocity = vel"
   ]
  },
  {
   "cell_type": "markdown",
   "id": "2b357532",
   "metadata": {},
   "source": [
    "# Class_Ball"
   ]
  },
  {
   "cell_type": "code",
   "execution_count": 6,
   "id": "2aaf6407",
   "metadata": {},
   "outputs": [],
   "source": [
    "class Ball(Target):\n",
    "    def __init__(self, center, rad, color):\n",
    "        super().__init__('ball')\n",
    "        self.center = center #[int, int]\n",
    "        self.rad = rad #int\n",
    "        self.velocity = [0,0]\n",
    "        self.color = color\n",
    "    def move(self, ampl = 1):\n",
    "        #ampl < 1 if ball can't make full step (he will collide with wall)\n",
    "        self.center[0] += ampl*self.velocity[0]\n",
    "        self.center[1] += ampl*self.velocity[1]\n",
    "    def draw(self, screen):\n",
    "        pg.draw.circle(screen, self.color, self.center, self.rad)"
   ]
  },
  {
   "cell_type": "markdown",
   "id": "f7d52a80",
   "metadata": {},
   "source": [
    "# Class_David"
   ]
  },
  {
   "cell_type": "code",
   "execution_count": 7,
   "id": "d2924dee",
   "metadata": {},
   "outputs": [],
   "source": [
    "class David(Target):\n",
    "    #act like a Ball, but looks different. In plans - change criteria of pointing on it\n",
    "    def __init__(self, center, rad, color):\n",
    "        super().__init__('David')\n",
    "        self.center = np.array(center) #[int, int]\n",
    "        self.rad = rad #int\n",
    "        self.velocity = np.array([0,0])\n",
    "        self.color = color\n",
    "        self.points = []\n",
    "        for i in range(6):\n",
    "            self.points.append(rotate(np.array([0,self.rad]), i*np.pi/3))\n",
    "            self.points.append(rotate(np.array([0,self.rad/np.sqrt(3)]), np.pi/6 + i*np.pi/3))\n",
    "    def move(self, ampl = 1):\n",
    "        #ampl < 1 if ball can't make full step (he will collide with wall)\n",
    "        self.center += self.velocity\n",
    "        for i in range(len(self.points)):\n",
    "            self.points[i] = rotate(self.points[i], np.pi/8)\n",
    "    def draw(self, screen):\n",
    "        draw_points = []\n",
    "        for p in self.points:\n",
    "            draw_points.append(p + self.center)\n",
    "        pg.draw.polygon(screen, self.color, draw_points)"
   ]
  },
  {
   "cell_type": "markdown",
   "id": "0f799758",
   "metadata": {},
   "source": [
    "# main"
   ]
  },
  {
   "cell_type": "code",
   "execution_count": 10,
   "id": "1b2eb8e8",
   "metadata": {},
   "outputs": [
    {
     "name": "stdout",
     "output_type": "stream",
     "text": [
      "What's your name? Peter\n"
     ]
    }
   ],
   "source": [
    "pg.init()\n",
    "\n",
    "FPS = 2\n",
    "w, h = 1150, 850\n",
    "SCORE, rew = 0, {'ball':1, 'custom':3}\n",
    "screen = pg.display.set_mode((w, h))\n",
    "clock = pg.time.Clock()\n",
    "\n",
    "RED = (255, 0, 0)\n",
    "BLUE = (0, 0, 255)\n",
    "YELLOW = (255, 255, 0)\n",
    "GREEN = (0, 255, 0)\n",
    "MAGENTA = (255, 0, 255)\n",
    "CYAN = (0, 255, 255)\n",
    "BLACK = (0, 0, 0)\n",
    "WHITE = (255,255,255)\n",
    "COLORS = [RED, BLUE, YELLOW, GREEN, MAGENTA, CYAN]\n",
    "\n",
    "finished = False\n",
    "ball = new_ball(w,h)\n",
    "ball.change_velocity([rd.randint(-ball.rad,ball.rad), rd.randint(-ball.rad,ball.rad)])\n",
    "ball.draw(screen)\n",
    "pg.display.update()\n",
    "targets = [ball]\n",
    "count = 0\n",
    "start_time = time.time()\n",
    "while not finished:\n",
    "    cur_time = time.time() - start_time\n",
    "    clock.tick(FPS)\n",
    "    count += 1\n",
    "    for ball in targets:\n",
    "        ball.draw(screen)\n",
    "        #следующие четыре условия реализуют отражение\n",
    "        if (ball.center[0] + ball.velocity[0] > w - ball.rad):#удар о правую стенку\n",
    "            ball.move((w - ball.rad - ball.center[0])/abs(ball.velocity[0]))\n",
    "            ball.change_velocity([rd.randint(-ball.rad,0), rd.randint(-ball.rad,ball.rad)])\n",
    "            \n",
    "        if (ball.center[0] + ball.velocity[0] < ball.rad):#удар о левую стенку\n",
    "            ball.move((- ball.rad + ball.center[0])/abs(ball.velocity[0]))\n",
    "            ball.change_velocity([rd.randint(0, ball.rad), rd.randint(-ball.rad,ball.rad)])\n",
    "            \n",
    "        if (ball.center[1] + ball.velocity[1] > h - ball.rad):#удар о нижнюю стенку\n",
    "            ball.move((h - ball.rad - ball.center[1])/abs(ball.velocity[1]))\n",
    "            ball.change_velocity([rd.randint(-ball.rad,ball.rad), rd.randint(-ball.rad, 0)])\n",
    "            \n",
    "        if (ball.center[1] + ball.velocity[1] < ball.rad):#удар о верхнюю стенку\n",
    "            ball.move(( - ball.rad + ball.center[1])/abs(ball.velocity[1]))\n",
    "            ball.change_velocity([rd.randint(-ball.rad,ball.rad), rd.randint(0, ball.rad)])\n",
    "        \n",
    "        ball.move()\n",
    "    if count == 5: #каждые 5 циклов добавляем в игру мишень\n",
    "        count = 0\n",
    "        new_object_on_screen(targets)    \n",
    "    screen.fill(WHITE)\n",
    "    for ball in targets:\n",
    "        ball.draw(screen)    \n",
    "    pg.display.update()\n",
    "    for e in pg.event.get():\n",
    "        if e.type == pg.MOUSEBUTTONDOWN:\n",
    "            beaten_number = 0\n",
    "            add_score = 0\n",
    "            for ball in targets: #проверим не попали ли мы в шарик\n",
    "                if dist(e.pos, ball.center) < ball.rad:\n",
    "                    beaten_number += 1\n",
    "                    targets.remove(ball)\n",
    "                    if ball.kind == 'ball':\n",
    "                        add_score += 1 #за кружок даём очко\n",
    "                    if ball.kind == 'David':\n",
    "                        add_score += 2 #за звезду Давида - 2 очка\n",
    "                    #если расскомментировать этот блок, то новые объекты будут добавляться только, если поле пусто\n",
    "                    #это логично, но куда менее весело\n",
    "                    '''if len(targets) == 0:\n",
    "                        new_object_on_screen(targets)'''\n",
    "                    new_object_on_screen(targets)\n",
    "            if beaten_number > 1:\n",
    "                print('asasad')\n",
    "            SCORE += add_score*beaten_number #даём больше очков за одновременное попадание по нескольким объектам    \n",
    "            screen.fill(WHITE) # подготовимся к перерисовыванию шаров\n",
    "            for ball in targets:\n",
    "                ball.draw(screen)\n",
    "            pg.display.update()\n",
    "        elif e.type == pg.QUIT:\n",
    "            pg.quit()\n",
    "            finished = True\n",
    "    if cur_time > 1:\n",
    "        player_name = finish(screen)\n",
    "        score_table_file = open('Records.txt', 'w')\n",
    "        score_table_file.write(player_name + ' ' + str(SCORE))\n",
    "        score_table_file.close()\n",
    "        pg.quit()\n",
    "        finished = True\n"
   ]
  },
  {
   "cell_type": "code",
   "execution_count": null,
   "id": "b4e488d6",
   "metadata": {},
   "outputs": [],
   "source": []
  }
 ],
 "metadata": {
  "kernelspec": {
   "display_name": "Python 3",
   "language": "python",
   "name": "python3"
  },
  "language_info": {
   "codemirror_mode": {
    "name": "ipython",
    "version": 3
   },
   "file_extension": ".py",
   "mimetype": "text/x-python",
   "name": "python",
   "nbconvert_exporter": "python",
   "pygments_lexer": "ipython3",
   "version": "3.8.8"
  }
 },
 "nbformat": 4,
 "nbformat_minor": 5
}
